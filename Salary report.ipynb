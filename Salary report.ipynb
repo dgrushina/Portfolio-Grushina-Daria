{
 "cells": [
  {
   "cell_type": "code",
   "execution_count": 208,
   "id": "5811a255-f6e6-4304-9124-f55a8bb6f3b1",
   "metadata": {},
   "outputs": [],
   "source": [
    "import pandas as pd \n",
    "from datetime import date\n",
    "import ast\n",
    "import math\n",
    "\n",
    "emails_df = pd.read_parquet('/Users/alina/Downloads/Данные Python для отправки студентам/emails.gzip')\n",
    "salary_df = pd.read_csv('/Users/alina/Downloads/Данные Python для отправки студентам/salary.csv', delimiter=';')\n",
    "\n",
    "employees_dict = open(\"/Users/alina/Downloads/Данные Python для отправки студентам/employess_dict.txt\", \"r\")\n",
    "employees_dict = employees_dict.read()\n",
    "employees = ast.literal_eval(employees_dict[12:])"
   ]
  },
  {
   "cell_type": "code",
   "execution_count": 50,
   "id": "57ed5e48-f4d3-4ef8-b6d1-5cef1eaa4af2",
   "metadata": {},
   "outputs": [
    {
     "data": {
      "text/html": [
       "<div>\n",
       "<style scoped>\n",
       "    .dataframe tbody tr th:only-of-type {\n",
       "        vertical-align: middle;\n",
       "    }\n",
       "\n",
       "    .dataframe tbody tr th {\n",
       "        vertical-align: top;\n",
       "    }\n",
       "\n",
       "    .dataframe thead th {\n",
       "        text-align: right;\n",
       "    }\n",
       "</style>\n",
       "<table border=\"1\" class=\"dataframe\">\n",
       "  <thead>\n",
       "    <tr style=\"text-align: right;\">\n",
       "      <th></th>\n",
       "      <th>ID</th>\n",
       "      <th>DATE</th>\n",
       "      <th>TYPE</th>\n",
       "      <th>VALUE</th>\n",
       "      <th>Unnamed: 4</th>\n",
       "    </tr>\n",
       "  </thead>\n",
       "  <tbody>\n",
       "    <tr>\n",
       "      <th>0</th>\n",
       "      <td>1.0</td>\n",
       "      <td>2019-12-01</td>\n",
       "      <td>salary</td>\n",
       "      <td>50000.0</td>\n",
       "      <td>NaN</td>\n",
       "    </tr>\n",
       "    <tr>\n",
       "      <th>1</th>\n",
       "      <td>NaN</td>\n",
       "      <td>NaN</td>\n",
       "      <td>NaN</td>\n",
       "      <td>NaN</td>\n",
       "      <td>NaN</td>\n",
       "    </tr>\n",
       "    <tr>\n",
       "      <th>2</th>\n",
       "      <td>1.0</td>\n",
       "      <td>2020-01-01</td>\n",
       "      <td>salary</td>\n",
       "      <td>50000.0</td>\n",
       "      <td>NaN</td>\n",
       "    </tr>\n",
       "    <tr>\n",
       "      <th>3</th>\n",
       "      <td>1.0</td>\n",
       "      <td>2020-02-01</td>\n",
       "      <td>salary</td>\n",
       "      <td>50000.0</td>\n",
       "      <td>NaN</td>\n",
       "    </tr>\n",
       "    <tr>\n",
       "      <th>4</th>\n",
       "      <td>1.0</td>\n",
       "      <td>2020-03-01</td>\n",
       "      <td>salary</td>\n",
       "      <td>50000.0</td>\n",
       "      <td>NaN</td>\n",
       "    </tr>\n",
       "    <tr>\n",
       "      <th>...</th>\n",
       "      <td>...</td>\n",
       "      <td>...</td>\n",
       "      <td>...</td>\n",
       "      <td>...</td>\n",
       "      <td>...</td>\n",
       "    </tr>\n",
       "    <tr>\n",
       "      <th>98</th>\n",
       "      <td>4.0</td>\n",
       "      <td>2020-09-01</td>\n",
       "      <td>bonus</td>\n",
       "      <td>7000.0</td>\n",
       "      <td>NaN</td>\n",
       "    </tr>\n",
       "    <tr>\n",
       "      <th>99</th>\n",
       "      <td>4.0</td>\n",
       "      <td>2020-10-01</td>\n",
       "      <td>bonus</td>\n",
       "      <td>7000.0</td>\n",
       "      <td>NaN</td>\n",
       "    </tr>\n",
       "    <tr>\n",
       "      <th>100</th>\n",
       "      <td>4.0</td>\n",
       "      <td>2020-11-01</td>\n",
       "      <td>bonus</td>\n",
       "      <td>7000.0</td>\n",
       "      <td>NaN</td>\n",
       "    </tr>\n",
       "    <tr>\n",
       "      <th>101</th>\n",
       "      <td>4.0</td>\n",
       "      <td>2020-12-01</td>\n",
       "      <td>bonus</td>\n",
       "      <td>7000.0</td>\n",
       "      <td>NaN</td>\n",
       "    </tr>\n",
       "    <tr>\n",
       "      <th>102</th>\n",
       "      <td>4.0</td>\n",
       "      <td>2021-01-01</td>\n",
       "      <td>bonus</td>\n",
       "      <td>7000.0</td>\n",
       "      <td>NaN</td>\n",
       "    </tr>\n",
       "  </tbody>\n",
       "</table>\n",
       "<p>103 rows × 5 columns</p>\n",
       "</div>"
      ],
      "text/plain": [
       "      ID        DATE    TYPE    VALUE  Unnamed: 4\n",
       "0    1.0  2019-12-01  salary  50000.0         NaN\n",
       "1    NaN         NaN     NaN      NaN         NaN\n",
       "2    1.0  2020-01-01  salary  50000.0         NaN\n",
       "3    1.0  2020-02-01  salary  50000.0         NaN\n",
       "4    1.0  2020-03-01  salary  50000.0         NaN\n",
       "..   ...         ...     ...      ...         ...\n",
       "98   4.0  2020-09-01   bonus   7000.0         NaN\n",
       "99   4.0  2020-10-01   bonus   7000.0         NaN\n",
       "100  4.0  2020-11-01   bonus   7000.0         NaN\n",
       "101  4.0  2020-12-01   bonus   7000.0         NaN\n",
       "102  4.0  2021-01-01   bonus   7000.0         NaN\n",
       "\n",
       "[103 rows x 5 columns]"
      ]
     },
     "execution_count": 50,
     "metadata": {},
     "output_type": "execute_result"
    }
   ],
   "source": [
    "salary_df"
   ]
  },
  {
   "cell_type": "code",
   "execution_count": 209,
   "id": "44c0b76c-71ea-428c-b3a5-aec92e4ab541",
   "metadata": {},
   "outputs": [],
   "source": [
    "def billing_period(start_date, end_date):\n",
    "    \n",
    "    start_date = datetime.datetime.strptime(start_date, '%Y-%m-%d')\n",
    "    end_date = datetime.datetime.strptime(end_date, '%Y-%m-%d')\n",
    "\n",
    "    billing_period_days = (end_date - start_date).days\n",
    "    billing_period_months = math.ceil(billing_period_days/30.4)\n",
    "    \n",
    "    return billing_period_months"
   ]
  },
  {
   "cell_type": "code",
   "execution_count": 211,
   "id": "d3ef092f-d2b7-45b5-a7ea-cad6c789c479",
   "metadata": {},
   "outputs": [],
   "source": [
    "def avg_salary(database, id, start_date, end_date):\n",
    "\n",
    "    billing_period_months = billing_period(start_date, end_date)\n",
    "    \n",
    "    start_date = datetime.datetime.strptime(start_date, '%Y-%m-%d')\n",
    "    end_date = datetime.datetime.strptime(end_date, '%Y-%m-%d')\n",
    "    \n",
    "\n",
    "    id_salary = []\n",
    "    \n",
    "    for n in database:\n",
    "        if n[0] == id and n[2] == 'salary':\n",
    "            id_salary.append(n)\n",
    "\n",
    "    salary_sum = 0\n",
    "    \n",
    "    for n in id_salary:\n",
    "        if start_date <= datetime.datetime.strptime(n[1], '%Y-%m-%d') <= end_date:\n",
    "            salary_sum += n[3]\n",
    "    \n",
    "    return salary_sum/billing_period_months"
   ]
  },
  {
   "cell_type": "code",
   "execution_count": 217,
   "id": "cb9d387b-58da-4f22-bddc-6de68a4c246a",
   "metadata": {},
   "outputs": [],
   "source": [
    "def avg_bonus(database, id, start_date, end_date):\n",
    "\n",
    "    billing_period_months = billing_period(start_date, end_date)\n",
    "\n",
    "    start_date = datetime.datetime.strptime(start_date, '%Y-%m-%d')\n",
    "    end_date = datetime.datetime.strptime(end_date, '%Y-%m-%d')\n",
    "\n",
    "    id_salary = []\n",
    "    \n",
    "    for n in database:\n",
    "        if n[0] == id and n[2] == 'bonus':\n",
    "            id_salary.append(n)\n",
    "\n",
    "    salary_sum = 0\n",
    "    \n",
    "    for n in id_salary:\n",
    "        if start_date <= datetime.datetime.strptime(n[1], '%Y-%m-%d') <= end_date:\n",
    "            salary_sum += n[3]\n",
    "    \n",
    "    return salary_sum/billing_period_months"
   ]
  },
  {
   "cell_type": "code",
   "execution_count": 215,
   "id": "3fa0a2a5-3850-4f91-9b4f-bae09b82677b",
   "metadata": {},
   "outputs": [
    {
     "data": {
      "text/plain": [
       "62416.666666666664"
      ]
     },
     "execution_count": 215,
     "metadata": {},
     "output_type": "execute_result"
    }
   ],
   "source": [
    "avg_salary(salary, 2, '2020-01-01', '2020-12-01')"
   ]
  },
  {
   "cell_type": "code",
   "execution_count": 213,
   "id": "b7910c24-4130-4e85-b282-1fc6a6330c6a",
   "metadata": {},
   "outputs": [
    {
     "data": {
      "text/plain": [
       "12"
      ]
     },
     "execution_count": 213,
     "metadata": {},
     "output_type": "execute_result"
    }
   ],
   "source": [
    "billing_period('2020-01-01', '2020-12-01')"
   ]
  },
  {
   "cell_type": "code",
   "execution_count": 202,
   "id": "6b0f235c-d83c-476e-ae45-59b599aa998b",
   "metadata": {},
   "outputs": [],
   "source": [
    "start_date = datetime.datetime.strptime('2020-01-01', '%Y-%m-%d')\n",
    "end_date = datetime.datetime.strptime('2021-01-01', '%Y-%m-%d')\n",
    "\n",
    "billing_period_days = (end_date - start_date).days\n",
    "billing_period_months = round(billing_period_days/30.4)"
   ]
  },
  {
   "cell_type": "code",
   "execution_count": 203,
   "id": "3076383f-b19e-45b1-adb2-e90dad3706e9",
   "metadata": {},
   "outputs": [
    {
     "data": {
      "text/plain": [
       "12"
      ]
     },
     "execution_count": 203,
     "metadata": {},
     "output_type": "execute_result"
    }
   ],
   "source": [
    "billing_period_months"
   ]
  },
  {
   "cell_type": "code",
   "execution_count": 218,
   "id": "8b4ab050-9a5d-4698-87ae-802329bc542f",
   "metadata": {},
   "outputs": [],
   "source": [
    "def form_report(employees, salary, emails, start_date, end_date):\n",
    "\n",
    "    billing_period_months = billing_period(start_date, end_date)\n",
    "    \n",
    "    id_list = []\n",
    "    \n",
    "    for emp in employees:\n",
    "        id_list.append(emp[0])\n",
    "        \n",
    "    id_set = set(id_list)\n",
    "    \n",
    "    fullname_by_id = dict()\n",
    "    \n",
    "    for emp in employees:\n",
    "        fullname_by_id[emp[0]] = ', '.join(emp[1:])\n",
    "        \n",
    "    fullname_by_id  = dict(sorted(fullname_by_id.items()))\n",
    "\n",
    "    emails_by_id = {id: [] for id in id_set}\n",
    "\n",
    "    for e in emails:\n",
    "        for id in id_set:\n",
    "            if int(e[1]) == id and e[2] not in emails_by_id[id]:\n",
    "                emails_by_id[id].append(e[2])\n",
    "    \n",
    "    report_list = []\n",
    "    for id in id_set:\n",
    "        report_list.append([])\n",
    "        report_list[id-1].append(str(id))\n",
    "        report_list[id-1].extend([fullname_by_id[id],\n",
    "                                 str(avg_salary(salary, id, start_date, end_date)),\n",
    "                                 str(avg_bonus(salary, id, start_date, end_date)),\n",
    "                                 ', '.join(emails_by_id[id])])\n",
    "        \n",
    "    for rep in report_list:\n",
    "        rep = [elem for elem in rep if elem != '']\n",
    "        print(', '.join(rep))\n",
    "\n"
   ]
  },
  {
   "cell_type": "code",
   "execution_count": 219,
   "id": "a38772c0-3a51-447c-9a78-3fdfad842ce5",
   "metadata": {},
   "outputs": [
    {
     "name": "stdout",
     "output_type": "stream",
     "text": [
      "1, Шершуков, Виктор, Кузьмич, 51750.0, 9583.333333333334, shershuko@mail.ru, shershuko-v@mail.ru\n",
      "2, Битова, Анастасия, Юрьевна, 62416.666666666664, 8083.333333333333, bitova@mail.ru\n",
      "3, Кириллов, Валентин, Владиславович, 60666.666666666664, 0.0, kirillov@mail.ru\n",
      "4, Игнатьев, Игорь, Дмитриевич, 62333.333333333336, 7000.0\n"
     ]
    }
   ],
   "source": [
    "form_report(employees, salary, emails, '2020-01-01', '2020-12-01')"
   ]
  },
  {
   "cell_type": "markdown",
   "id": "65f1864c-0a52-496a-9daa-a4b958bd6f02",
   "metadata": {},
   "source": [
    "В общем случае расчетный период составляет 12 календарных месяцев, предшествующих периоду, когда за сотрудником сохраняется средняя заработная плата (ст. 139 ТК РФ)."
   ]
  },
  {
   "cell_type": "code",
   "execution_count": null,
   "id": "7bc0db0b-2af0-4cf4-a5e0-1f13a6b1f342",
   "metadata": {},
   "outputs": [],
   "source": []
  }
 ],
 "metadata": {
  "kernelspec": {
   "display_name": "Python 3 (ipykernel)",
   "language": "python",
   "name": "python3"
  },
  "language_info": {
   "codemirror_mode": {
    "name": "ipython",
    "version": 3
   },
   "file_extension": ".py",
   "mimetype": "text/x-python",
   "name": "python",
   "nbconvert_exporter": "python",
   "pygments_lexer": "ipython3",
   "version": "3.9.7"
  }
 },
 "nbformat": 4,
 "nbformat_minor": 5
}
