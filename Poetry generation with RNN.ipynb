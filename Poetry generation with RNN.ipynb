{
  "cells": [
    {
      "cell_type": "markdown",
      "metadata": {
        "id": "v2VWsa9iedbB"
      },
      "source": [
        "### Генерация поэзии с помощью нейронных сетей: шаг 1\n",
        "Основная задача: научиться генерироват стихи с помощью простой рекуррентной нейронной сети (Vanilla RNN). В качестве корпуса текстов для обучения будет выступать роман в стихах \"Евгений Онегин\" Александра Сергеевича Пушкина."
      ]
    },
    {
      "cell_type": "code",
      "execution_count": 1,
      "metadata": {
        "id": "s5vWyXmOedbF"
      },
      "outputs": [],
      "source": [
        "# do not change the code in the block below\n",
        "# __________start of block__________\n",
        "import string\n",
        "import os\n",
        "from random import sample\n",
        "\n",
        "import numpy as np\n",
        "import torch, torch.nn as nn\n",
        "import torch.nn.functional as F\n",
        "\n",
        "from IPython.display import clear_output\n",
        "\n",
        "import matplotlib.pyplot as plt\n",
        "# __________end of block__________"
      ]
    },
    {
      "cell_type": "code",
      "execution_count": 2,
      "metadata": {
        "id": "oiCzySaGedbG",
        "outputId": "49f458e6-06da-4965-f519-d8ac3f4a27bb",
        "colab": {
          "base_uri": "https://localhost:8080/"
        }
      },
      "outputs": [
        {
          "output_type": "stream",
          "name": "stdout",
          "text": [
            "cuda device is available\n"
          ]
        }
      ],
      "source": [
        "# do not change the code in the block below\n",
        "# __________start of block__________\n",
        "device = torch.device('cuda') if torch.cuda.is_available() else torch.device('cpu')\n",
        "print('{} device is available'.format(device))\n",
        "# __________end of block__________"
      ]
    },
    {
      "cell_type": "markdown",
      "metadata": {
        "id": "MPenWOy01Ooa",
        "outputId": "a92e8e33-e009-4bd4-ac12-3b1b5e1cd3f2"
      },
      "source": [
        "#### 1. Загрузка данных."
      ]
    },
    {
      "cell_type": "code",
      "execution_count": 3,
      "metadata": {
        "id": "00iKJUxXedbG",
        "outputId": "08ef8309-705d-41fe-b4e5-912ff43254fa",
        "colab": {
          "base_uri": "https://localhost:8080/"
        }
      },
      "outputs": [
        {
          "output_type": "stream",
          "name": "stdout",
          "text": [
            "--2024-05-12 20:08:21--  https://raw.githubusercontent.com/neychev/small_DL_repo/master/datasets/onegin.txt\n",
            "Resolving raw.githubusercontent.com (raw.githubusercontent.com)... 185.199.108.133, 185.199.109.133, 185.199.110.133, ...\n",
            "Connecting to raw.githubusercontent.com (raw.githubusercontent.com)|185.199.108.133|:443... connected.\n",
            "HTTP request sent, awaiting response... 200 OK\n",
            "Length: 262521 (256K) [text/plain]\n",
            "Saving to: ‘onegin.txt’\n",
            "\n",
            "onegin.txt          100%[===================>] 256.37K  --.-KB/s    in 0.004s  \n",
            "\n",
            "2024-05-12 20:08:21 (70.1 MB/s) - ‘onegin.txt’ saved [262521/262521]\n",
            "\n"
          ]
        }
      ],
      "source": [
        "# do not change the code in the block below\n",
        "# __________start of block__________\n",
        "!wget https://raw.githubusercontent.com/neychev/small_DL_repo/master/datasets/onegin.txt\n",
        "\n",
        "with open('onegin.txt', 'r') as iofile:\n",
        "    text = iofile.readlines()\n",
        "\n",
        "text = \"\".join([x.replace('\\t\\t', '').lower() for x in text])\n",
        "# __________end of block__________"
      ]
    },
    {
      "cell_type": "markdown",
      "metadata": {
        "id": "XQYpmGfR_gJ8"
      },
      "source": [
        "#### 2. Построение словаря и предобработка текста\n",
        "В данном задании требуется построить языковую модель на уровне символов. Приведем весь текст к нижнему регистру и построим словарь из всех символов в доступном корпусе текстов. Также добавим токен `<sos>`."
      ]
    },
    {
      "cell_type": "code",
      "execution_count": 4,
      "metadata": {
        "id": "2i-sQSvredbH",
        "colab": {
          "base_uri": "https://localhost:8080/"
        },
        "outputId": "11baa2ed-c977-4e95-e94e-5cab7445ed09"
      },
      "outputs": [
        {
          "output_type": "stream",
          "name": "stdout",
          "text": [
            "Seems fine!\n"
          ]
        }
      ],
      "source": [
        "# do not change the code in the block below\n",
        "# __________start of block__________\n",
        "tokens = sorted(set(text.lower())) + ['<sos>']\n",
        "num_tokens = len(tokens)\n",
        "\n",
        "assert num_tokens == 84, \"Check the tokenization process\"\n",
        "\n",
        "token_to_idx = {x: idx for idx, x in enumerate(tokens)}\n",
        "idx_to_token = {idx: x for idx, x in enumerate(tokens)}\n",
        "\n",
        "assert len(tokens) == len(token_to_idx), \"Mapping should be unique\"\n",
        "\n",
        "print(\"Seems fine!\")\n",
        "\n",
        "\n",
        "text_encoded = [token_to_idx[x] for x in text]\n",
        "# __________end of block__________"
      ]
    },
    {
      "cell_type": "markdown",
      "metadata": {
        "id": "rqwwf6I8edbH"
      },
      "source": [
        "__Ваша задача__: обучить классическую рекуррентную нейронную сеть (Vanilla RNN) предсказывать следующий символ на полученном корпусе текстов и сгенерировать последовательность длины 100 для фиксированной начальной фразы.\n",
        "\n",
        "Вы можете воспользоваться кодом с занятие №6 или же обратиться к следующим ссылкам:\n",
        "* Замечательная статья за авторством Andrej Karpathy об использовании RNN: [link](http://karpathy.github.io/2015/05/21/rnn-effectiveness/)\n",
        "* Пример char-rnn от Andrej Karpathy: [github repo](https://github.com/karpathy/char-rnn)\n",
        "* Замечательный пример генерации поэзии Шекспира: [github repo](https://github.com/spro/practical-pytorch/blob/master/char-rnn-generation/char-rnn-generation.ipynb)\n",
        "\n",
        "Данное задание является достаточно творческим. Не страшно, если поначалу оно вызывает затруднения. Последняя ссылка в списке выше может быть особенно полезна в данном случае.\n",
        "\n",
        "Далее для вашего удобства реализована функция, которая генерирует случайный батч размера `batch_size` из строк длиной `seq_length`. Вы можете использовать его при обучении модели."
      ]
    },
    {
      "cell_type": "code",
      "execution_count": 5,
      "metadata": {
        "id": "CeYxKnD6edbH"
      },
      "outputs": [],
      "source": [
        "# do not change the code in the block below\n",
        "# __________start of block__________\n",
        "batch_size = 256\n",
        "seq_length = 100\n",
        "start_column = np.zeros((batch_size, 1), dtype=int) + token_to_idx['<sos>']\n",
        "\n",
        "def generate_chunk():\n",
        "    global text_encoded, start_column, batch_size, seq_length\n",
        "\n",
        "    start_index = np.random.randint(0, len(text_encoded) - batch_size*seq_length - 1)\n",
        "    data = np.array(text_encoded[start_index:start_index + batch_size*seq_length]).reshape((batch_size, -1))\n",
        "    yield np.hstack((start_column, data))\n",
        "# __________end of block__________"
      ]
    },
    {
      "cell_type": "code",
      "source": [
        "# seminar implementation"
      ],
      "metadata": {
        "id": "O-qYG5xXBntv"
      },
      "execution_count": null,
      "outputs": []
    },
    {
      "cell_type": "code",
      "source": [
        "class CharRNNCell(nn.Module):\n",
        "\n",
        "    def __init__(self, num_tokens=len(tokens), embedding_size=100, rnn_num_units = 300):\n",
        "        super(self.__class__,self).__init__()\n",
        "        self.num_units = rnn_num_units\n",
        "\n",
        "        self.embedding = nn.Embedding(num_tokens, embedding_size)\n",
        "        self.rnn_update = nn.Linear(\n",
        "            embedding_size + rnn_num_units,\n",
        "            rnn_num_units\n",
        "        )\n",
        "        self.rnn_to_logits = nn.Linear(rnn_num_units, num_tokens)\n",
        "\n",
        "    def forward(self, x, h_prev):\n",
        "\n",
        "        x_emb = self.embedding(x)\n",
        "        x_and_h = torch.cat([x_emb, h_prev], dim=-1)\n",
        "        h_next = self.rnn_update(x_and_h)\n",
        "        h_next = torch.tanh(h_next)\n",
        "        assert h_next.size() == h_prev.size()\n",
        "\n",
        "        logits = self.rnn_to_logits(h_next)\n",
        "\n",
        "        return h_next, F.log_softmax(logits, -1)\n",
        "\n",
        "    def initial_state(self, batch_size):\n",
        "\n",
        "        return torch.zeros(batch_size, self.num_units, requires_grad=True)"
      ],
      "metadata": {
        "id": "EqFW_cQZB2hn"
      },
      "execution_count": 6,
      "outputs": []
    },
    {
      "cell_type": "code",
      "source": [
        "char_rnn = CharRNNCell()\n",
        "criterion = nn.NLLLoss()"
      ],
      "metadata": {
        "id": "iowpO5VpB8HO"
      },
      "execution_count": 7,
      "outputs": []
    },
    {
      "cell_type": "code",
      "source": [
        "def rnn_loop(char_rnn, batch_ix):\n",
        "\n",
        "    batch_size, max_length = batch_ix.size()\n",
        "    hid_state = char_rnn.initial_state(batch_size)\n",
        "    logprobs = []\n",
        "\n",
        "    for x_t in batch_ix.transpose(0,1):\n",
        "        hid_state, logp_next = char_rnn(x_t, hid_state)\n",
        "        logprobs.append(logp_next)\n",
        "\n",
        "    return torch.stack(logprobs, dim=1)"
      ],
      "metadata": {
        "id": "J08dJAuHB_1w"
      },
      "execution_count": 8,
      "outputs": []
    },
    {
      "cell_type": "code",
      "source": [
        "batch_ix = next(generate_chunk())\n",
        "batch_ix = torch.tensor(batch_ix, dtype=torch.int64)\n",
        "\n",
        "logp_seq = rnn_loop(char_rnn, batch_ix)\n",
        "\n",
        "predictions_logp = logp_seq[:, :-1]\n",
        "actual_next_tokens = batch_ix[:, 1:]\n",
        "\n",
        "loss = criterion(predictions_logp.contiguous().view(-1, num_tokens),\n",
        "                  actual_next_tokens.contiguous().view(-1))\n",
        "print(loss)"
      ],
      "metadata": {
        "colab": {
          "base_uri": "https://localhost:8080/"
        },
        "id": "gduc4G9FCCP_",
        "outputId": "a472a6ba-d760-4a07-b98d-a2b2879b7261"
      },
      "execution_count": 9,
      "outputs": [
        {
          "output_type": "stream",
          "name": "stdout",
          "text": [
            "tensor(4.4261, grad_fn=<NllLossBackward0>)\n"
          ]
        }
      ]
    },
    {
      "cell_type": "code",
      "source": [
        "from IPython.display import clear_output\n",
        "\n",
        "char_rnn = CharRNNCell()\n",
        "criterion = nn.NLLLoss()\n",
        "history = []\n",
        "\n",
        "opt = torch.optim.Adam(char_rnn.parameters(), lr=1e-4, amsgrad=True)\n",
        "\n",
        "for i in range(3000):\n",
        "    batch_ix = next(generate_chunk())\n",
        "    batch_ix = torch.tensor(batch_ix, dtype=torch.int64)\n",
        "    logp_seq = rnn_loop(char_rnn, batch_ix)\n",
        "    predictions_logp = logp_seq[:, :-1]\n",
        "    actual_next_tokens = batch_ix[:, 1:]\n",
        "    loss = criterion(predictions_logp.contiguous().view(-1, num_tokens),\n",
        "                  actual_next_tokens.contiguous().view(-1))\n",
        "\n",
        "    loss.backward()\n",
        "    opt.step()\n",
        "    opt.zero_grad()\n",
        "    loss_value = loss.data.numpy()\n",
        "    history.append(loss.data.numpy())\n",
        "\n",
        "    if (i+1)%100==0:\n",
        "        clear_output(True)\n",
        "        plt.plot(history,label='loss')\n",
        "        plt.legend()\n",
        "        plt.show()\n",
        "\n",
        "assert np.mean(history[:10]) > np.mean(history[-10:]), \"RNN didn't converge.\""
      ],
      "metadata": {
        "colab": {
          "base_uri": "https://localhost:8080/",
          "height": 430
        },
        "id": "Gu_8oTSRa_fO",
        "outputId": "ba7bbb10-10a8-402c-d513-06436a4a53ca"
      },
      "execution_count": 21,
      "outputs": [
        {
          "output_type": "display_data",
          "data": {
            "text/plain": [
              "<Figure size 640x480 with 1 Axes>"
            ],
            "image/png": "[encoded data removed]"
          },
          "metadata": {}
        }
      ]
    },
    {
      "cell_type": "markdown",
      "metadata": {
        "id": "FPtTbvmsedbI"
      },
      "source": [
        "В качестве иллюстрации ниже доступен график значений функции потерь, построенный в ходе обучения авторской сети (сам код для ее обучения вам и предстоит написать)."
      ]
    },
    {
      "cell_type": "markdown",
      "metadata": {
        "id": "OUyriFKFedbJ"
      },
      "source": [
        "Шаблон функции `generate_sample` также доступен ниже. Вы можете как дозаполнить его, так и написать свою собственную функцию с нуля. Не забывайте, что все примеры в обучающей выборке начинались с токена `<sos>`."
      ]
    },
    {
      "cell_type": "code",
      "execution_count": 22,
      "metadata": {
        "id": "TDD8DOEVedbJ"
      },
      "outputs": [],
      "source": [
        "def generate_sample(char_rnn, seed_phrase=None, max_length=200, temperature=1.0):\n",
        "    '''\n",
        "    The function generates text given a phrase of length at least SEQ_LENGTH.\n",
        "    :param seed_phrase: prefix characters. The RNN is asked to continue the phrase\n",
        "    :param max_length: maximum output length, including seed_phrase\n",
        "    :param temperature: coefficient for sampling.  higher temperature produces more chaotic outputs,\n",
        "                        smaller temperature converges to the single most likely output\n",
        "    '''\n",
        "\n",
        "    if seed_phrase is not None:\n",
        "        x_sequence = [token_to_idx['<sos>']] + [token_to_idx[token] for token in seed_phrase]\n",
        "    else:\n",
        "        x_sequence = [token_to_idx['<sos>']]\n",
        "\n",
        "    x_sequence = torch.tensor([x_sequence], dtype=torch.int64)\n",
        "\n",
        "    hid_state = char_rnn.initial_state(batch_size=1)\n",
        "\n",
        "    for i in range(len(seed_phrase) - 1):\n",
        "        hid_state, out = char_rnn(x_sequence[:, i], hid_state)\n",
        "\n",
        "    for _ in range(max_length - len(seed_phrase)):\n",
        "        hid_state, out = char_rnn(x_sequence[:, -1], hid_state)\n",
        "        p_next = F.softmax(out / temperature, dim=-1).data.numpy()[0]\n",
        "\n",
        "        next_ix = np.random.choice(len(tokens), p=p_next)\n",
        "        next_ix = torch.tensor([[next_ix]], dtype=torch.int64)\n",
        "        x_sequence = torch.cat([x_sequence, next_ix], dim=1)\n",
        "\n",
        "    return ''.join([tokens[ix] for ix in x_sequence.data.numpy()[0]])"
      ]
    },
    {
      "cell_type": "markdown",
      "metadata": {
        "id": "8cREnm4HedbJ"
      },
      "source": [
        "Пример текста сгенерированного обученной моделью доступен ниже. Не страшно, что в тексте много несуществующих слов. Используемая модель очень проста: это простая классическая RNN."
      ]
    },
    {
      "cell_type": "code",
      "execution_count": 23,
      "metadata": {
        "id": "cjDlPFhSedbJ",
        "outputId": "780d7496-0fa6-4a4c-e132-e67089c2c6cb",
        "colab": {
          "base_uri": "https://localhost:8080/"
        }
      },
      "outputs": [
        {
          "output_type": "stream",
          "name": "stdout",
          "text": [
            "<sos> мой дядя самых честных правилы\n",
            "и вздала с васер шам оно.\n",
            "гостида вижда лече блалиц\n",
            "стором и не сляда.\n",
            "провся пленых жернигом зарен?\n",
            "забыл ленской и постетах,\n",
            "вдобраткоко с рочого смолучье\n",
            "\n",
            "\n",
            "\n",
            "\n",
            "\n",
            "xii\n",
            "\n",
            "и свол он лень верена доло\n",
            "бедом кредний заделей седь\n",
            "на видца и расский качет.\n",
            "\n",
            "\n",
            "\n",
            "«x\n",
            "\n",
            "вот в седет жисбила на бнадья,\n",
            "грумиц с няно тары обылать\n",
            "ое их илько дорозумный,\n",
            "куки не надвия том;\n",
            "отерьное гредит голод\n",
            "и неку был об он утров,\n",
            "пригодить рунила заброст.\n",
            "\n",
            "\n",
            "\n",
            "xxvii\n",
            "\n",
            "но ж же тить продут старинов,\n",
            "\n"
          ]
        }
      ],
      "source": [
        "print(generate_sample(char_rnn, ' мой дядя самых честных правил', max_length=500, temperature=0.8))"
      ]
    },
    {
      "cell_type": "code",
      "source": [
        "print(generate_sample(char_rnn, ' мой дядя самых честных правил', max_length=500, temperature=0.8))"
      ],
      "metadata": {
        "id": "BWJGYUKLl5Ta",
        "outputId": "625bcb8d-0de2-401a-da35-93ffed8bd19f",
        "colab": {
          "base_uri": "https://localhost:8080/"
        }
      },
      "execution_count": 24,
      "outputs": [
        {
          "output_type": "stream",
          "name": "stdout",
          "text": [
            "<sos> мой дядя самых честных правилой\n",
            "стихом твенит невой душой,\n",
            "как молка татьяна межды,\n",
            "устали доворь леняню света\n",
            "татьяна в светит стратая; поры,\n",
            "предут он ее скродеть?\n",
            "умил васьмо раздавне мила\n",
            "и запеетвые ле в не предной\n",
            "полно сне состознила предвам,\n",
            "мости в ней он весь меня лен?»\n",
            "\n",
            "\n",
            "\n",
            "xxxvii. – исерд судью сторона она\n",
            "и так егда два руда?\n",
            "«на нетира ты лиспета\n",
            "и рокорени рокомной,\n",
            "подился послетоа лепеть,\n",
            "за севет меря доле соворно?\n",
            "запесть, ваткика, друг никий;\n",
            "весто без, молодать нагодной\n",
            "кочел\n"
          ]
        }
      ]
    },
    {
      "cell_type": "markdown",
      "metadata": {
        "id": "h58wAggPedbJ"
      },
      "source": [
        "### Сдача задания\n",
        "Сгенерируйте десять последовательностей длиной 500, используя строку ' мой дядя самых честных правил'. Температуру для генерации выберите самостоятельно на основании визуального качества генериуремого текста. Не забудьте удалить все технические токены в случае их наличия.\n",
        "\n",
        "Сгенерированную последовательность сохрание в переменную `generated_phrase` и сдайте сгенерированный ниже файл в контест."
      ]
    },
    {
      "cell_type": "code",
      "execution_count": null,
      "metadata": {
        "id": "4I4gK6U6edbJ"
      },
      "outputs": [],
      "source": [
        "seed_phrase = ' мой дядя самых честных правил'"
      ]
    },
    {
      "cell_type": "code",
      "execution_count": null,
      "metadata": {
        "id": "By9ogGCEedbK"
      },
      "outputs": [],
      "source": [
        "generated_phrases = # your code here\n",
        "\n",
        "# For example:\n",
        "\n",
        "# generated_phrases = [\n",
        "#     generate_sample(\n",
        "#         model,\n",
        "#         ' мой дядя самых честных правил',\n",
        "#         max_length=500,\n",
        "#         temperature=1.\n",
        "#     ).replace('<sos>', '')\n",
        "#     for _ in range(10)\n",
        "# ]"
      ]
    },
    {
      "cell_type": "code",
      "source": [
        "generated_phrases = [generate_sample(char_rnn, ' мой дядя самых честных правил', max_length=500, temperature=1.).replace('<sos>', '') for _ in range(10)]"
      ],
      "metadata": {
        "id": "ASKI7Ar7mYcq"
      },
      "execution_count": 25,
      "outputs": []
    },
    {
      "cell_type": "code",
      "source": [
        "for f in generated_phrases:\n",
        "  print(f)"
      ],
      "metadata": {
        "id": "miqckbF-mlvt",
        "outputId": "97fc55d7-f971-44fb-c55a-ee39b18ef128",
        "colab": {
          "base_uri": "https://localhost:8080/"
        }
      },
      "execution_count": 26,
      "outputs": [
        {
          "output_type": "stream",
          "name": "stdout",
          "text": [
            " мой дядя самых честных правиле,\n",
            "зваждой меннули не преди лать.\n",
            "\n",
            "\n",
            "\n",
            "xxxvi,\n",
            "тум, татсона лезниу:\n",
            "я, продултым пилью етру,\n",
            "кладем вображбак точит\n",
            "и яс не вnцпрежным дужай,\n",
            "воздела квой предастростою мнец.\n",
            "«дель, взорь упраги по равной,\n",
            "просождых неж него в нем»\n",
            "как глу, что же снего мица:\n",
            "сихах нам ричастих ул писум;\n",
            "девыл я раздаясь; очкою\n",
            "\n",
            "\n",
            "»el жи-скак дольбо умиданий\n",
            "(пошей кладном муж довства не был пудца!\n",
            "дойли ведила пак быле\n",
            "татьяна пои посужелий,\n",
            "моей спор, в уг плебы, журки снадата,\n",
            "погохо\n",
            " мой дядя самых честных правиляна,\n",
            "что как небодь ладова….\n",
            "«ты верен бечет сторятей сесли\n",
            "мождала, без с били шино.\n",
            "\n",
            "\n",
            "\n",
            "xxii\n",
            "\n",
            "ни: жевлестным одненьем годной прихарт;\n",
            "и сторет пошлу полары\n",
            "ятей в теби нокогит,\n",
            "союный паскаремае.\n",
            "\n",
            "\n",
            "\n",
            "xxii\n",
            "\n",
            "«вотя зданьтом гля ул; болненой одно\n",
            "имца полу стрятны, надают;\n",
            "кнуг милит… чувских моей\n",
            "спавать дух таней дат ужул..\n",
            "\n",
            "\n",
            "\n",
            "vxii\n",
            "\n",
            "уменит беро замитускою; пыла\n",
            "дай-ставням и досавствузу,\n",
            "вбохалко. к когда день моск;\n",
            "в неце не делгов, на постой\n",
            "в татьяни празкопидетной\n",
            " мой дядя самых честных правилечны\n",
            "\n",
            "презделей мые кал:\n",
            "острамчиваз, к почето».\n",
            ". «ита. с двпорок первить мушком поды!»\n",
            "да криситвец быкя плетва\n",
            "и то намет шумний сужделя)\n",
            "не глятис на ропутца унол\n",
            "судох дерепленный где мой\n",
            "как к ват дань шелеста.\n",
            "мосподнок их ет умком, надиется, гон.\n",
            "\n",
            "\n",
            "\n",
            "xxxvi\n",
            "\n",
            "что пасьмо на сладой, знае\n",
            "покорою кишли песнивый,\n",
            "и спле онажилам сюд жой\n",
            "когенье гран изгородом\n",
            "и си имой по-лубенно,\n",
            "вед на дро«и стременье дышай\n",
            "подинешья, я тоба попару;\n",
            "кто опаследнные грезве!\n",
            "блюдно\n",
            " мой дядя самых честных правилать\n",
            "оторие согоегои,\n",
            "не крыльихи, чрас илай?\n",
            "треду тебита тепдим – этвый,\n",
            "не поскиет: посодитный миам.\n",
            "\n",
            "\n",
            "ii\n",
            "\n",
            "«в забям двесь почнулась зановад\n",
            "вроктой пускод от подела его\n",
            "больги, пошле зронила крака\n",
            "он младит скарьну что к язна,\n",
            "боть подая билью ствости,\n",
            "гот везу ев, без он?\n",
            "\n",
            "\n",
            "\n",
            "x’ii\n",
            "\n",
            "таться бознить мругуки,: каслывням,\n",
            "до-рымадет канья слуд забрак,\n",
            "густой, казгомушки меет..\n",
            "\n",
            "\n",
            "\n",
            "xiiii\n",
            "\n",
            "с ванялю призановый беть\n",
            "мел не потчалс… —\n",
            "фгразенья\n",
            "яльний обежая малюбви,\n",
            "гдя дол\n",
            " мой дядя самых честных правиля.\n",
            "xxviiiv\n",
            "\n",
            "z тытея бесья не судьмно?\n",
            "мно вся чисперям немом.\n",
            "предала у илудою вес.\n",
            "вот нез, шимет, удет твенье?» —\n",
            "«и сnру скеюл, чука безара,\n",
            "стого не начавилась,\n",
            "и друз благо едествинился;\n",
            "чтот не нашломесть-на мой\n",
            "и по. бугрук хoушь и шух,\n",
            "ати сольца и чима шалой.\n",
            "азгодной лидой доритный чивати,\n",
            "вгималосто поснит,\n",
            "первец тибки незрегом так\n",
            "угана, ллюбом. поляна \n",
            "влем дамить и мног, оданный!.\n",
            "\n",
            "\n",
            "\n",
            "xxxxxiiii\n",
            "\n",
            "погдя льстизья раглупой тан,\n",
            "(дойков пал пе волмолюбовой?\n",
            " мой дядя самых честных правили.\n",
            "\n",
            "\n",
            "\n",
            "xxii\n",
            "\n",
            "загла бажелся вы доврув вnf.\n",
            "\n",
            "\n",
            "\n",
            "xiv\n",
            "\n",
            "я вескассь, без бреркой.\n",
            "чтом задела ей оклодно\n",
            "песлыйнным нагредних нам ет.\n",
            "колаo запо толюбластве;\n",
            "утаться как он ней-отрераст\n",
            "влюблиной горшевкоконетна;\n",
            "свидцамень лана вышеють?\n",
            "я врей геры ты в смутельных нет\n",
            "ув ошит тото живно ей!\n",
            "безловаю те полкдет птит;\n",
            "часто на лью ребскором\n",
            "остановою чуждать, крався\n",
            "евгезняе же ей чтоб всё инегат\n",
            "спястит, сурнына моналась,\n",
            "старичь темна и дам суждей;\n",
            "души на слядие вернуе\n",
            "ег\n",
            " мой дядя самых честных правиле\n",
            "чевня мозгелов сталож всё киздит…\n",
            "вражитой яглая молздам:\n",
            "но здворит у сокорой\n",
            "приятек и реков,рик маклодой\n",
            "простечен всервка вписон,\n",
            "так зазнимож? бреску, порой,\n",
            "татьяни дрилоу маженья,\n",
            "зо часту в натех!\n",
            "и что жде гдруг обших тарной.\n",
            "\n",
            "\n",
            "я грыману душу дежна.\n",
            "в поторен бмиватя межва,\n",
            "ках, погушой же моджик;\n",
            "стомнар задовой и щедсть,\n",
            "кото на мучанья мозгуня;\n",
            "полыбу чужусь учи, осандом\n",
            "(сыхамит слави тамо в судишко\n",
            "в мом\n",
            "тик, дана мой все стробою,\n",
            "ож зилеб давой прес\n",
            " мой дядя самых честных правилижный\n",
            "она порок, вечте тирой;\n",
            "на рактет в эт басьем васрые холовно\n",
            "они пожит носью бродиц\n",
            "в собую что все довани,\n",
            "а туняе мождаши, тожалы,\n",
            "вель нигод нам раздают.\n",
            "возабо готреннийся,\n",
            "и стра мой трекиф\n",
            "не весель разлюбий судь?\n",
            "душе жай-ть я пискей раздаласи цвеч.\n",
            "на нас взор печит охлавнали ажь…\n",
            "гластва заминной режве,\n",
            "начкоки: четь будя мумо,\n",
            "онь по в делю в тветою на не?».\n",
            "\n",
            "\n",
            "\n",
            "lix\n",
            "\n",
            "так и бердце льна хредало,\n",
            "и гnода дродье, кредной превлетв?»\n",
            "\n",
            "\n",
            "\n",
            "xxvii. «к желот рост\n",
            " мой дядя самых честных правилов\n",
            "и ним поречко двуu ба юбогу\n",
            "с дофрасиком; от дева в свои.\n",
            "я ейдьмо прокоменный,\n",
            "онегия мно, духнца ширы\n",
            "зутом кафяю пирасно;\n",
            "вздечав и в ражды был заходанья,\n",
            "удой нех ленит ого-от.\n",
            "«песних медвых сердеи довым,\n",
            "и мнону леникосливя:\n",
            "применый команье другенья!\n",
            "\n",
            "\n",
            "\n",
            "xxx\n",
            "\n",
            "мечной отяльный иль седу.\n",
            "—\n",
            "ужду послегк..\n",
            "\n",
            "\n",
            "\n",
            "xo\n",
            "\n",
            "бсе моть, назем обесзнащень зум\n",
            "истох,\n",
            "погружный бругу, в хорный,\n",
            "взровами жерден останай\n",
            "как долой в обимия вемуль:\n",
            "подмутся не черный меня,\n",
            "домор. пы\n",
            " мой дядя самых честных правилагь,\n",
            "девsви расн?! д был послад силъетских;\n",
            "но вол, ты блеги в мум?а,\n",
            "ставаться в тоo не гружной!\n",
            "и гости ее цво вы девой,\n",
            "сятой бывзур!» —u?»» tve (enlelterea»?»:,\n",
            "\n",
            "\n",
            "\n",
            "xviii\n",
            "\n",
            "на горой не дубранной все этак».\n",
            "\n",
            "\n",
            "\n",
            "xxi\n",
            "\n",
            "оне обнули, строню и гдерты\n",
            "рувать я ва евра,\n",
            "миты, взё прицетануц,\n",
            "желуком рогластревою жезленой\n",
            "всё одна, лишь но повуда.\n",
            "доем жез уль, вод одна печетно?\n",
            "он в тел на послен, и любовным\n",
            "и ггромы понялынкопном.\n",
            "\n",
            "\n",
            "\n",
            "xxv\n",
            "\n",
            "превси, вгрудна безны. с каскались\n",
            "\n"
          ]
        }
      ]
    },
    {
      "cell_type": "code",
      "execution_count": null,
      "metadata": {
        "id": "egXBWCPyedbK",
        "colab": {
          "base_uri": "https://localhost:8080/"
        },
        "outputId": "b44c6f3f-811d-4d57-f8f2-4bafb5c90508"
      },
      "outputs": [
        {
          "output_type": "stream",
          "name": "stdout",
          "text": [
            "File saved to `submission_dict.json`\n"
          ]
        }
      ],
      "source": [
        "# do not change the code in the block below\n",
        "# __________start of block__________\n",
        "\n",
        "import json\n",
        "if 'generated_phrases' not in locals():\n",
        "    raise ValueError(\"Please, save generated phrases to `generated_phrases` variable\")\n",
        "\n",
        "for phrase in generated_phrases:\n",
        "\n",
        "    if not isinstance(phrase, str):\n",
        "        raise ValueError(\"The generated phrase should be a string\")\n",
        "\n",
        "    if len(phrase) != 500:\n",
        "        raise ValueError(\"The `generated_phrase` length should be equal to 500\")\n",
        "\n",
        "    assert all([x in set(tokens) for x in set(list(phrase))]), 'Unknown tokens detected, check your submission!'\n",
        "\n",
        "\n",
        "submission_dict = {\n",
        "    'token_to_idx': token_to_idx,\n",
        "    'generated_phrases': generated_phrases\n",
        "}\n",
        "\n",
        "with open('submission_dict.json', 'w') as iofile:\n",
        "    json.dump(submission_dict, iofile)\n",
        "print('File saved to `submission_dict.json`')\n",
        "# __________end of block__________"
      ]
    },
    {
      "cell_type": "markdown",
      "metadata": {
        "id": "WePm4dL3edbK"
      },
      "source": [
        "На этом задание завершено. Поздравляем!"
      ]
    }
  ],
  "metadata": {
    "accelerator": "GPU",
    "anaconda-cloud": {},
    "colab": {
      "provenance": []
    },
    "kernelspec": {
      "display_name": "Py3 Research",
      "language": "python",
      "name": "py3_research"
    },
    "language_info": {
      "codemirror_mode": {
        "name": "ipython",
        "version": 3
      },
      "file_extension": ".py",
      "mimetype": "text/x-python",
      "name": "python",
      "nbconvert_exporter": "python",
      "pygments_lexer": "ipython3",
      "version": "3.7.10"
    }
  },
  "nbformat": 4,
  "nbformat_minor": 0
}
